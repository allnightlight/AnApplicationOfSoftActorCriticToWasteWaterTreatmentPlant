{
 "cells": [
  {
   "cell_type": "code",
   "execution_count": null,
   "metadata": {},
   "outputs": [],
   "source": [
    "# To mount\n",
    "from google.colab import drive\n",
    "drive.mount('/content/drive')\n",
    "\n",
    "# # To update the work environment\n",
    "# %cd /content/drive/My Drive/AnApplicationOfSoftActorCriticToWasteWaterTreatmentPlant\n",
    "# !git pull\n",
    "\n",
    "%cd /content/drive/My Drive/AnApplicationOfSoftActorCriticToWasteWaterTreatmentPlant/sanitycheck"
   ]
  },
  {
   "cell_type": "code",
   "execution_count": null,
   "metadata": {},
   "outputs": [],
   "source": [
    "import sys\n",
    "sys.path.append(\"..\")\n",
    "\n",
    "import numpy as np\n",
    "from sanitycheck.work004_utility import Work004Utility\n",
    "from concrete.concrete_build_parameter import ConcreteBuildParameter\n",
    "\n",
    "%reload_ext autoreload\n",
    "%autoreload 2"
   ]
  },
  {
   "cell_type": "code",
   "execution_count": null,
   "metadata": {},
   "outputs": [],
   "source": [
    "app, store = Work004Utility.create()"
   ]
  },
  {
   "cell_type": "markdown",
   "metadata": {},
   "source": [
    "# Run training:"
   ]
  },
  {
   "cell_type": "code",
   "execution_count": null,
   "metadata": {},
   "outputs": [],
   "source": [
    "nEpoch = 2**11\n",
    "\n",
    "while True:\n",
    "    buildParameter = ConcreteBuildParameter(nIntervalSave = nEpoch//2\n",
    "                                        , nEpoch = nEpoch\n",
    "                                        , label = \"test\"\n",
    "                                        , plantClass = \"ConcretePlant001\"\n",
    "                                        , discountFactor = 0.\n",
    "                                        , alphaTemp = float(np.random.choice([1e-1, 1e+1]))\n",
    "                                        , saveFolderPathAgent = \"checkpoint\"\n",
    "                                        , nFeature = 1\n",
    "                                        , nSampleOfActionsInValueFunctionApproximator = int(np.random.choice([2**0, 2**3]))\n",
    "                                        , nHiddenValueFunctionApproximator = 2**5\n",
    "                                        , nStepEnvironment = 1\n",
    "                                        , nStepGradient = int(np.random.choice([2**0, 2**3]))\n",
    "                                        , nIntervalUpdateStateValueFunction = 1\n",
    "                                        , nIterationPerEpoch = 1\n",
    "                                        , bufferSizeReplayBuffer = 2**10\n",
    "                                        , featureExtractorClass = \"ConcreteFeatureExtractor002\")\n",
    "    \n",
    "    print(\">> Call build command:\")\n",
    "    app.build(buildParameter) "
   ]
  },
  {
   "cell_type": "markdown",
   "metadata": {},
   "source": [
    "# Run evaluation:"
   ]
  },
  {
   "cell_type": "code",
   "execution_count": null,
   "metadata": {},
   "outputs": [],
   "source": [
    "app.evaluate()"
   ]
  },
  {
   "cell_type": "code",
   "execution_count": null,
   "metadata": {},
   "outputs": [],
   "source": [
    "# Remove all the remained files"
   ]
  },
  {
   "cell_type": "code",
   "execution_count": null,
   "metadata": {},
   "outputs": [],
   "source": [
    "# store.removeHistory()"
   ]
  }
 ],
 "metadata": {
  "kernelspec": {
   "display_name": "Python 3",
   "language": "python",
   "name": "python3"
  },
  "language_info": {
   "codemirror_mode": {
    "name": "ipython",
    "version": 3
   },
   "file_extension": ".py",
   "mimetype": "text/x-python",
   "name": "python",
   "nbconvert_exporter": "python",
   "pygments_lexer": "ipython3",
   "version": "3.7.5"
  }
 },
 "nbformat": 4,
 "nbformat_minor": 2
}
