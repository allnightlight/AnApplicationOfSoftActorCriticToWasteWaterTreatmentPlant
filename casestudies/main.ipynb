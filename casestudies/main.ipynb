{
 "cells": [
  {
   "cell_type": "code",
   "execution_count": null,
   "metadata": {},
   "outputs": [],
   "source": [
    "# To mount\n",
    "from google.colab import drive\n",
    "drive.mount('/content/drive')\n",
    "\n",
    "# # To update the work environment\n",
    "# %cd /content/drive/My Drive/SacVsAsmCasestudies\n",
    "# !git pull\n",
    "\n",
    "%cd /content/drive/My Drive/SacVsAsmCasestudies/casestudies"
   ]
  },
  {
   "cell_type": "code",
   "execution_count": null,
   "metadata": {},
   "outputs": [],
   "source": [
    "import sys\n",
    "sys.path.append(\"..\")\n",
    "\n",
    "from casestudies.runner import Runner\n",
    "from casestudies.work_factory import WorkFactory\n",
    "from datetime import timedelta\n",
    "\n",
    "%reload_ext autoreload\n",
    "%autoreload 2"
   ]
  },
  {
   "cell_type": "code",
   "execution_count": null,
   "metadata": {},
   "outputs": [],
   "source": [
    "work = WorkFactory().create(workName = \"work001\"\n",
    "                            , nSimulationStep = 96 * 14\n",
    "                            , nEpoch = 2**12\n",
    "                            , nAgent = 2**10\n",
    "                            , saveFolderPathAgent = \"checkpoint\"\n",
    "                            , updateEvaluationInterval = timedelta(seconds = 1)\n",
    "                            , nUpdateEvaluation = None)\n",
    "\n",
    "runner = Runner(work)"
   ]
  },
  {
   "cell_type": "markdown",
   "metadata": {},
   "source": [
    "Please, give a number (and options, if necessary) in the argument and run the next cell.\n",
    "\n",
    "Each number corresponds to a command as follows:\n",
    "* 0: build\n",
    "* 1: evaluate\n",
    "* 2: export simulation result as figure. Please give agentKey and epoch in 2nd and 3rd arguments, respectively.\n",
    "* 3: export simulation result as csv format file. Please give agentKey and epoch in 2nd and 3rd arguments, respectively.\n",
    "* 99: clean remained files except the evaluation tables."
   ]
  },
  {
   "cell_type": "code",
   "execution_count": null,
   "metadata": {},
   "outputs": [],
   "source": [
    "runner.command(0)"
   ]
  }
 ],
 "metadata": {
  "kernelspec": {
   "display_name": "Python 3",
   "language": "python",
   "name": "python3"
  },
  "language_info": {
   "codemirror_mode": {
    "name": "ipython",
    "version": 3
   },
   "file_extension": ".py",
   "mimetype": "text/x-python",
   "name": "python",
   "nbconvert_exporter": "python",
   "pygments_lexer": "ipython3",
   "version": "3.7.5"
  }
 },
 "nbformat": 4,
 "nbformat_minor": 2
}
