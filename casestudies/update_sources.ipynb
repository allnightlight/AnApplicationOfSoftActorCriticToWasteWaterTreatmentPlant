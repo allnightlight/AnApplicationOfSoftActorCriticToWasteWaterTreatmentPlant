{
 "cells": [
  {
   "cell_type": "code",
   "execution_count": null,
   "metadata": {},
   "outputs": [],
   "source": [
    "# To mount\n",
    "from google.colab import drive\n",
    "drive.mount('/content/drive')\n",
    "\n",
    "# %cd /content/drive/My Drive/\n",
    "# !git clone -b casestudies https://github.com/allnightlight/AnApplicationOfSoftActorCriticToWasteWaterTreatmentPlant.git\n",
    "    \n",
    "# To update the work environment\n",
    "%cd /content/drive/My Drive/SacVsAsmCasestudies\n",
    "!git pull\n",
    "\n",
    "# %cd /content/drive/My Drive/SacVsAsmCasestudies/casestudies"
   ]
  }
 ],
 "metadata": {
  "kernelspec": {
   "display_name": "Python 3",
   "language": "python",
   "name": "python3"
  },
  "language_info": {
   "codemirror_mode": {
    "name": "ipython",
    "version": 3
   },
   "file_extension": ".py",
   "mimetype": "text/x-python",
   "name": "python",
   "nbconvert_exporter": "python",
   "pygments_lexer": "ipython3",
   "version": "3.7.5"
  }
 },
 "nbformat": 4,
 "nbformat_minor": 2
}
