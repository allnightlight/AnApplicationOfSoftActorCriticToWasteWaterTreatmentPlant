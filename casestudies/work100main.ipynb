{
 "cells": [
  {
   "cell_type": "code",
   "execution_count": null,
   "metadata": {},
   "outputs": [],
   "source": [
    "# To mount\n",
    "from google.colab import drive\n",
    "drive.mount('/content/drive')\n",
    "\n",
    "# # To update the work environment\n",
    "# %cd /content/drive/My Drive/SacVsAsmCasestudies\n",
    "# !git pull\n",
    "\n",
    "%cd /content/drive/My Drive/SacVsAsmCasestudies/casestudies"
   ]
  },
  {
   "cell_type": "code",
   "execution_count": null,
   "metadata": {},
   "outputs": [],
   "source": [
    "import sys\n",
    "sys.path.append(\"../\")\n",
    "\n",
    "import matplotlib.pylab as plt\n",
    "import numpy as np"
   ]
  },
  {
   "cell_type": "code",
   "execution_count": null,
   "metadata": {},
   "outputs": [],
   "source": [
    "from casestudies.work100 import Work100\n",
    "from concrete.concrete_build_parameter import ConcreteBuildParameter"
   ]
  },
  {
   "cell_type": "code",
   "execution_count": null,
   "metadata": {},
   "outputs": [],
   "source": [
    "def createBuildParameter():\n",
    "    \n",
    "    nEpoch = 1 # NOT USED\n",
    "\n",
    "    plantClass = \"ConcretePlant003\"\n",
    "    \n",
    "    policyClass = \"ConcretePolicy001\"\n",
    "\n",
    "    nQfunctionRedundancy = int(np.random.choice([2,]))\n",
    "\n",
    "    alphaTemp = 0.0\n",
    "    nBatch = 2**5\n",
    "    nStepGradient = 1\n",
    "    weightOnMv = 0.5\n",
    "    discountFactor = 0.9\n",
    "    learningRateForUpdatePolicy = float(np.random.choice([1e-2,]))/nStepGradient\n",
    "    learningRateForUpdateActionValueFunction = float(np.random.choice([1e-2,]))/nStepGradient\n",
    "    learningRateForUpdateStateValueFunction = float(np.random.choice([1e-3,]))/nStepGradient\n",
    "\n",
    "    return ConcreteBuildParameter(nIntervalSave = nEpoch\n",
    "                        , nEpoch = nEpoch\n",
    "                        , label = \"NONE\"\n",
    "                        , plantClass = plantClass\n",
    "                        , discountFactor = discountFactor # Q(s,a) = (1-gamma) * reward(s,a) + gamma * V(s+)\n",
    "                        , alphaTemp = alphaTemp\n",
    "                        , saveFolderPathAgent = \"checkpoint\"\n",
    "                        , nFeature = 1\n",
    "                        , nSampleOfActionsInValueFunctionApproximator = int(np.random.choice([1,]))\n",
    "                        , nHiddenValueFunctionApproximator = 2**5\n",
    "                        , nStepEnvironment = 1\n",
    "                        , nStepGradient = nStepGradient\n",
    "                        , nIntervalUpdateStateValueFunction = int(np.random.choice([2**0,]))\n",
    "                        , nIterationPerEpoch = 1\n",
    "                        , bufferSizeReplayBuffer = int(np.random.choice([2**16,]))\n",
    "                        , featureExtractorClass = \"ConcreteFeatureExtractor002\"\n",
    "                        , learningRateForUpdateActionValueFunction = learningRateForUpdateActionValueFunction \n",
    "                        , learningRateForUpdatePolicy = learningRateForUpdatePolicy\n",
    "                        , learningRateForUpdateStateValueFunction = learningRateForUpdateStateValueFunction\n",
    "                        , policyClass = policyClass\n",
    "                        , replayBufferClass = \"ConcreteReplayBuffer001\"\n",
    "                        , nBatch = nBatch\n",
    "                        , nQfunctionRedundancy = nQfunctionRedundancy\n",
    "                        , valueFunctionApproximatorClass = \"ConcreteValueFunctionApproximator002\"\n",
    "                        , weightOnMv=weightOnMv)"
   ]
  },
  {
   "cell_type": "code",
   "execution_count": null,
   "metadata": {},
   "outputs": [],
   "source": [
    "work = Work100.create(showLog = True)"
   ]
  },
  {
   "cell_type": "code",
   "execution_count": null,
   "metadata": {},
   "outputs": [],
   "source": [
    "for k1 in range(2**5):\n",
    "    print(\">> trial = %d\" % k1)\n",
    "    for _ in work.work(createBuildParameter()):\n",
    "        pass"
   ]
  }
 ],
 "metadata": {
  "kernelspec": {
   "display_name": "Python 3",
   "language": "python",
   "name": "python3"
  },
  "language_info": {
   "codemirror_mode": {
    "name": "ipython",
    "version": 3
   },
   "file_extension": ".py",
   "mimetype": "text/x-python",
   "name": "python",
   "nbconvert_exporter": "python",
   "pygments_lexer": "ipython3",
   "version": "3.7.5"
  }
 },
 "nbformat": 4,
 "nbformat_minor": 2
}
